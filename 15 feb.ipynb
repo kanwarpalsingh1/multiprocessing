{
 "cells": [
  {
   "cell_type": "markdown",
   "id": "a9016a88-3896-4661-a640-6ac4df0351de",
   "metadata": {},
   "source": [
    "'''Q1. What is multiprocessing in python? Why is it useful?'''\n",
    "Multiprocessing is useful for several reasons:\n",
    "\n",
    "Parallelism: Multiprocessing allows multiple tasks to run simultaneously on different CPU cores, exploiting the full computational power of modern multi-core processors. This can lead to significant performance improvements, especially for CPU-bound tasks.\n",
    "\n",
    "Isolation: Each process in multiprocessing has its own memory space, which provides isolation and prevents one process from affecting the memory or state of another process. This enhances stability and robustness, as errors or crashes in one process typically do not affect others.\n",
    "\n",
    "Resource Utilization: Multiprocessing can maximize CPU utilization by keeping all CPU cores busy with useful work. It allows CPU-bound tasks to be distributed across multiple processes, avoiding bottlenecks and improving overall system efficiency.\n",
    "\n",
    "Fault Tolerance: Multiprocessing can improve fault tolerance by isolating critical processes from each other. If one process encounters an error or crashes, it does not affect the execution of other processes, ensuring that the application as a whole remains resilient.\n",
    "\n",
    "Scalability: Multiprocessing enables scalable solutions for parallel processing tasks, as it can utilize all available CPU cores efficiently. This makes multiprocessing suitable for applications that need to scale with increasing computational demands, such as data processing, scientific computing, and parallel algorithms.\n",
    "\n",
    "Compatibility: Multiprocessing is compatible with both Unix-like and Windows operating systems, making it a cross-platform solution for parallel computing tasks. It provides a consistent interface for multiprocessing across different platforms, allowing developers to write portable code."
   ]
  },
  {
   "cell_type": "markdown",
   "id": "c4d988cb-c4a8-49d1-99d5-e87e31a1b762",
   "metadata": {},
   "source": [
    "Q2. What are the differences between multiprocessing and multithreading?\n",
    "Execution Model:\n",
    "\n",
    "Multiprocessing involves the execution of multiple processes concurrently, where each process has its own memory space and runs independently of others. Processes communicate via inter-process communication (IPC) mechanisms.\n",
    "Multithreading involves the execution of multiple threads within a single process. Threads share the same memory space and resources, including variables and data structures, within the process.\n",
    "Concurrency vs. Parallelism:\n",
    "\n",
    "Multiprocessing enables true parallelism by leveraging multiple CPU cores. Each process runs independently and can execute simultaneously on separate CPU cores.\n",
    "Multithreading achieves concurrency by running multiple threads within the same process. While threads can execute concurrently on multi-core systems, they may be limited by the Global Interpreter Lock (GIL) in Python, which restricts true parallelism in CPU-bound tasks.\n",
    "Isolation:\n",
    "\n",
    "Multiprocessing provides strong isolation between processes, as each process has its own memory space. This prevents one process from affecting the state or memory of another process.\n",
    "Multithreading shares the same memory space among threads within a process. While threads can access shared data structures directly, this can lead to synchronization issues such as race conditions and data corruption.\n",
    "Resource Utilization:\n",
    "\n",
    "Multiprocessing can maximize CPU utilization by running multiple processes simultaneously on separate CPU cores. It allows CPU-bound tasks to be distributed across multiple cores, improving overall system efficiency.\n",
    "Multithreading can be more lightweight in terms of resource usage compared to multiprocessing, as threads within the same process share memory and resources. However, excessive threading can still lead to resource contention and overhead, particularly with synchronization mechanisms.\n",
    "Fault Tolerance:\n",
    "\n",
    "Multiprocessing enhances fault tolerance by isolating critical processes from each other. If one process encounters an error or crashes, it does not affect the execution of other processes.\n",
    "Multithreading may pose challenges for fault tolerance, as errors or crashes in one thread can potentially affect the entire process. Proper error handling and synchronization mechanisms are necessary to maintain stability in multithreaded applications."
   ]
  },
  {
   "cell_type": "code",
   "execution_count": 1,
   "id": "a0e48fc5-2019-4283-abb1-eaf6fa39f8aa",
   "metadata": {},
   "outputs": [
    {
     "name": "stdout",
     "output_type": "stream",
     "text": [
      "Process ID: 997\n",
      "Parent Process ID: 918\n",
      "Process Name: MyProcess\n",
      "Main process exiting\n"
     ]
    }
   ],
   "source": [
    "'''Q3. Write a python code to create a process using the multiprocessing module.'''\n",
    "import multiprocessing\n",
    "import os\n",
    "\n",
    "def print_process_info():\n",
    "    print(\"Process ID:\", os.getpid())\n",
    "    print(\"Parent Process ID:\", os.getppid())\n",
    "    print(\"Process Name:\", multiprocessing.current_process().name)\n",
    "\n",
    "if __name__ == \"__main__\":\n",
    "    # Create a new process\n",
    "    process = multiprocessing.Process(target=print_process_info, name=\"MyProcess\")\n",
    "\n",
    "    # Start the process\n",
    "    process.start()\n",
    "\n",
    "    # Wait for the process to finish\n",
    "    process.join()\n",
    "\n",
    "    print(\"Main process exiting\")"
   ]
  },
  {
   "cell_type": "markdown",
   "id": "b99f85dc-a3db-4045-b59c-dcf0418ae7bd",
   "metadata": {},
   "source": [
    "'''Q4. What is a multiprocessing pool in python? Why is it used?'''\n",
    "Parallel Execution: A multiprocessing pool enables parallel execution of tasks by spreading them across multiple worker processes. This can significantly reduce the overall execution time, especially for CPU-bound tasks that can benefit from parallelism.\n",
    "\n",
    "Resource Utilization: By utilizing multiple CPU cores, a multiprocessing pool maximizes CPU utilization and improves system efficiency. It allows you to make better use of available hardware resources, leading to faster task completion.\n",
    "\n",
    "Simplicity: Using a multiprocessing pool simplifies the process of parallelizing tasks, as it handles the creation and management of worker processes internally. You don't need to manually manage individual processes or worry about inter-process communication.\n",
    "\n",
    "Task Distribution: The pool distributes tasks among worker processes in a load-balanced manner, ensuring that each process receives a roughly equal share of the workload. This helps prevent resource contention and ensures efficient utilization of CPU cores.\n",
    "\n",
    "Asynchronous Execution: Multiprocessing pools support asynchronous execution of tasks, allowing you to submit multiple tasks to the pool and continue with other work while they are being processed concurrently.\n",
    "\n",
    "Result Retrieval: A multiprocessing pool provides methods for retrieving results from the worker processes once the tasks have been completed. This allows you to collect and process the output of parallel tasks in a convenient and efficient manner."
   ]
  },
  {
   "cell_type": "code",
   "execution_count": 2,
   "id": "c5015c7a-44fd-4f41-8c61-1c58a5387e30",
   "metadata": {},
   "outputs": [
    {
     "name": "stdout",
     "output_type": "stream",
     "text": [
      "Squared numbers: [1, 4, 9, 16, 25, 36, 49, 64, 81, 100]\n"
     ]
    }
   ],
   "source": [
    "'''Q5. How can we create a pool of worker processes in python using the multiprocessing module?'''\n",
    "import multiprocessing\n",
    "\n",
    "def square(x):\n",
    "    return x * x\n",
    "\n",
    "if __name__ == \"__main__\":\n",
    "    # Create a Pool object with 4 worker processes\n",
    "    with multiprocessing.Pool(processes=4) as pool:\n",
    "        # Distribute the task of squaring numbers from 1 to 10 to the pool\n",
    "        result = pool.map(square, range(1, 11))\n",
    "\n",
    "    # Print the results\n",
    "    print(\"Squared numbers:\", result)"
   ]
  },
  {
   "cell_type": "code",
   "execution_count": 3,
   "id": "4767808b-6cc8-4154-a537-f1526c91c46d",
   "metadata": {},
   "outputs": [
    {
     "name": "stdout",
     "output_type": "stream",
     "text": [
      "Process ID: 1086Process ID: prints  10891 \n",
      "Process ID:prints  11022 \n",
      "printsProcess ID:  31121\n",
      " prints 4\n",
      "Main process exiting\n"
     ]
    }
   ],
   "source": [
    "'''Q6. Write a python program to create 4 processes, each process should print a different number using the\n",
    "multiprocessing module in python.'''\n",
    "import multiprocessing\n",
    "\n",
    "def print_number(num):\n",
    "    print(\"Process ID:\", multiprocessing.current_process().pid, \"prints\", num)\n",
    "\n",
    "if __name__ == \"__main__\":\n",
    "    # Create a list of numbers\n",
    "    numbers = [1, 2, 3, 4]\n",
    "\n",
    "    # Create a list to hold process objects\n",
    "    processes = []\n",
    "\n",
    "    # Create and start a process for each number\n",
    "    for num in numbers:\n",
    "        process = multiprocessing.Process(target=print_number, args=(num,))\n",
    "        processes.append(process)\n",
    "        process.start()\n",
    "\n",
    "    # Wait for all processes to finish\n",
    "    for process in processes:\n",
    "        process.join()\n",
    "\n",
    "    print(\"Main process exiting\")"
   ]
  },
  {
   "cell_type": "code",
   "execution_count": null,
   "id": "0fc3f463-e538-4252-9674-360e5da7f321",
   "metadata": {},
   "outputs": [],
   "source": []
  }
 ],
 "metadata": {
  "kernelspec": {
   "display_name": "Python 3 (ipykernel)",
   "language": "python",
   "name": "python3"
  },
  "language_info": {
   "codemirror_mode": {
    "name": "ipython",
    "version": 3
   },
   "file_extension": ".py",
   "mimetype": "text/x-python",
   "name": "python",
   "nbconvert_exporter": "python",
   "pygments_lexer": "ipython3",
   "version": "3.10.8"
  }
 },
 "nbformat": 4,
 "nbformat_minor": 5
}
